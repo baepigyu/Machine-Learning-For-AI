{
  "nbformat": 4,
  "nbformat_minor": 0,
  "metadata": {
    "colab": {
      "provenance": [],
      "authorship_tag": "ABX9TyPdCnkRRQOoFlM91VAxISvv",
      "include_colab_link": true
    },
    "kernelspec": {
      "name": "python3",
      "display_name": "Python 3"
    },
    "language_info": {
      "name": "python"
    }
  },
  "cells": [
    {
      "cell_type": "markdown",
      "metadata": {
        "id": "view-in-github",
        "colab_type": "text"
      },
      "source": [
        "<a href=\"https://colab.research.google.com/github/baepigyu/Machine-Learning-For-AI/blob/main/Chapter1.ipynb\" target=\"_parent\"><img src=\"https://colab.research.google.com/assets/colab-badge.svg\" alt=\"Open In Colab\"/></a>"
      ]
    },
    {
      "cell_type": "code",
      "source": [
        "# prompt: 마운트해줘\n",
        "\n",
        "from google.colab import drive\n",
        "drive.mount('/content/drive')\n"
      ],
      "metadata": {
        "colab": {
          "base_uri": "https://localhost:8080/"
        },
        "id": "Z_USPs4gi0Gv",
        "outputId": "1eef7977-18cb-4e43-afbb-7554863bffbf"
      },
      "execution_count": 3,
      "outputs": [
        {
          "output_type": "stream",
          "name": "stdout",
          "text": [
            "Mounted at /content/drive\n"
          ]
        }
      ]
    },
    {
      "cell_type": "code",
      "source": [
        "cd /content/drive/MyDrive/Machine Learning For AI"
      ],
      "metadata": {
        "colab": {
          "base_uri": "https://localhost:8080/"
        },
        "id": "Oq31g_dLi9B9",
        "outputId": "b5d639e5-b79d-4be4-b524-e5c58f55f54b"
      },
      "execution_count": 4,
      "outputs": [
        {
          "output_type": "stream",
          "name": "stdout",
          "text": [
            "/content/drive/MyDrive/Machine Learning For AI\n"
          ]
        }
      ]
    },
    {
      "cell_type": "code",
      "execution_count": 5,
      "metadata": {
        "colab": {
          "base_uri": "https://localhost:8080/"
        },
        "id": "63fAF87Hh_IC",
        "outputId": "2262636b-501d-4908-9c05-ac501bece958"
      },
      "outputs": [
        {
          "output_type": "stream",
          "name": "stdout",
          "text": [
            "Cloning into 'handson-ml2'...\n",
            "remote: Enumerating objects: 3100, done.\u001b[K\n",
            "remote: Counting objects: 100% (4/4), done.\u001b[K\n",
            "remote: Compressing objects: 100% (4/4), done.\u001b[K\n",
            "remote: Total 3100 (delta 0), reused 1 (delta 0), pack-reused 3096 (from 1)\u001b[K\n",
            "Receiving objects: 100% (3100/3100), 150.92 MiB | 10.36 MiB/s, done.\n",
            "Resolving deltas: 100% (1905/1905), done.\n",
            "Updating files: 100% (84/84), done.\n"
          ]
        }
      ],
      "source": [
        "! git clone https://github.com/ageron/handson-ml2"
      ]
    },
    {
      "cell_type": "code",
      "source": [
        "class Graph:\n",
        "    def __init__(self,size):\n",
        "        self.size =size\n",
        "\n",
        "    def"
      ],
      "metadata": {
        "id": "8gCH5U0djWVR"
      },
      "execution_count": null,
      "outputs": []
    }
  ]
}